{
  "cells": [
    {
      "cell_type": "code",
      "execution_count": 61,
      "metadata": {
        "id": "igMyGnjE9hEp"
      },
      "outputs": [],
      "source": [
        "import csv\n",
        "\n",
        "import numpy as np\n",
        "import tensorflow as tf\n",
        "from sklearn.model_selection import train_test_split\n",
        "\n",
        "RANDOM_SEED = 42"
      ]
    },
    {
      "cell_type": "code",
      "execution_count": 62,
      "metadata": {
        "id": "t2HDvhIu9hEr"
      },
      "outputs": [],
      "source": [
        "# Specify each path"
      ]
    },
    {
      "cell_type": "code",
      "execution_count": 63,
      "metadata": {
        "id": "9NvZP2Zn9hEy"
      },
      "outputs": [],
      "source": [
        "dataset = 'model/keypoint_classifier/keypoint.csv'\n",
        "model_save_path = 'model/keypoint_classifier/keypoint_classifier.hdf5'\n",
        "tflite_save_path = 'model/keypoint_classifier/keypoint_classifier.tflite'"
      ]
    },
    {
      "cell_type": "code",
      "execution_count": 64,
      "metadata": {
        "id": "s5oMH7x19hEz"
      },
      "outputs": [],
      "source": [
        "# Set number of classes"
      ]
    },
    {
      "cell_type": "code",
      "execution_count": 65,
      "metadata": {
        "id": "du4kodXL9hEz"
      },
      "outputs": [],
      "source": [
        "NUM_CLASSES = 5"
      ]
    },
    {
      "cell_type": "code",
      "execution_count": 66,
      "metadata": {
        "id": "XjnL0uso9hEz"
      },
      "outputs": [],
      "source": [
        "# Dataset reading"
      ]
    },
    {
      "cell_type": "code",
      "execution_count": 67,
      "metadata": {
        "id": "QT5ZqtEz9hE0"
      },
      "outputs": [],
      "source": [
        "X_dataset = np.loadtxt(dataset, delimiter=',', dtype='float32', usecols=list(range(1, (21 * 2) + 1)))"
      ]
    },
    {
      "cell_type": "code",
      "execution_count": 68,
      "metadata": {
        "id": "QmoKFsp49hE0"
      },
      "outputs": [],
      "source": [
        "y_dataset = np.loadtxt(dataset, delimiter=',', dtype='int32', usecols=(0))"
      ]
    },
    {
      "cell_type": "code",
      "execution_count": 69,
      "metadata": {
        "id": "xQU7JTZ_9hE0"
      },
      "outputs": [],
      "source": [
        "X_train, X_test, y_train, y_test = train_test_split(X_dataset, y_dataset, train_size=0.75, random_state=RANDOM_SEED)"
      ]
    },
    {
      "cell_type": "code",
      "execution_count": 70,
      "metadata": {
        "id": "mxK_lETT9hE0"
      },
      "outputs": [],
      "source": [
        "# Model building"
      ]
    },
    {
      "cell_type": "code",
      "execution_count": 71,
      "metadata": {
        "id": "vHBmUf1t9hE1"
      },
      "outputs": [],
      "source": [
        "model = tf.keras.models.Sequential([\n",
        "    tf.keras.layers.Input((21 * 2, )),\n",
        "    tf.keras.layers.Dropout(0.2),\n",
        "    tf.keras.layers.Dense(20, activation='relu'),\n",
        "    tf.keras.layers.Dropout(0.4),\n",
        "    tf.keras.layers.Dense(10, activation='relu'),\n",
        "    tf.keras.layers.Dense(NUM_CLASSES, activation='softmax')\n",
        "])"
      ]
    },
    {
      "cell_type": "code",
      "execution_count": 72,
      "metadata": {
        "colab": {
          "base_uri": "https://localhost:8080/"
        },
        "id": "ypqky9tc9hE1",
        "outputId": "5db082bb-30e3-4110-bf63-a1ee777ecd46"
      },
      "outputs": [
        {
          "name": "stdout",
          "output_type": "stream",
          "text": [
            "Model: \"sequential_2\"\n",
            "_________________________________________________________________\n",
            " Layer (type)                Output Shape              Param #   \n",
            "=================================================================\n",
            " dropout_4 (Dropout)         (None, 42)                0         \n",
            "                                                                 \n",
            " dense_6 (Dense)             (None, 20)                860       \n",
            "                                                                 \n",
            " dropout_5 (Dropout)         (None, 20)                0         \n",
            "                                                                 \n",
            " dense_7 (Dense)             (None, 10)                210       \n",
            "                                                                 \n",
            " dense_8 (Dense)             (None, 5)                 55        \n",
            "                                                                 \n",
            "=================================================================\n",
            "Total params: 1,125\n",
            "Trainable params: 1,125\n",
            "Non-trainable params: 0\n",
            "_________________________________________________________________\n"
          ]
        }
      ],
      "source": [
        "model.summary()  # tf.keras.utils.plot_model(model, show_shapes=True)"
      ]
    },
    {
      "cell_type": "code",
      "execution_count": 73,
      "metadata": {
        "id": "MbMjOflQ9hE1"
      },
      "outputs": [],
      "source": [
        "# Model checkpoint callback\n",
        "cp_callback = tf.keras.callbacks.ModelCheckpoint(\n",
        "    model_save_path, verbose=1, save_weights_only=False)\n",
        "# Callback for early stopping\n",
        "es_callback = tf.keras.callbacks.EarlyStopping(patience=20, verbose=1)"
      ]
    },
    {
      "cell_type": "code",
      "execution_count": 74,
      "metadata": {
        "id": "c3Dac0M_9hE2"
      },
      "outputs": [],
      "source": [
        "# Model compilation\n",
        "model.compile(\n",
        "    optimizer='adam',\n",
        "    loss='sparse_categorical_crossentropy',\n",
        "    metrics=['accuracy']\n",
        ")"
      ]
    },
    {
      "cell_type": "code",
      "execution_count": 75,
      "metadata": {
        "id": "7XI0j1Iu9hE2"
      },
      "outputs": [],
      "source": [
        "# Model training"
      ]
    },
    {
      "cell_type": "code",
      "execution_count": 76,
      "metadata": {
        "colab": {
          "base_uri": "https://localhost:8080/"
        },
        "id": "WirBl-JE9hE3",
        "outputId": "71b30ca2-8294-4d9d-8aa2-800d90d399de",
        "scrolled": true
      },
      "outputs": [
        {
          "name": "stdout",
          "output_type": "stream",
          "text": [
            "Epoch 1/1000\n",
            "29/30 [============================>.] - ETA: 0s - loss: 1.5133 - accuracy: 0.3141\n",
            "Epoch 1: saving model to model/keypoint_classifier\\keypoint_classifier.hdf5\n",
            "30/30 [==============================] - 1s 8ms/step - loss: 1.5139 - accuracy: 0.3130 - val_loss: 1.4006 - val_accuracy: 0.4336\n",
            "Epoch 2/1000\n",
            "27/30 [==========================>...] - ETA: 0s - loss: 1.3890 - accuracy: 0.3681\n",
            "Epoch 2: saving model to model/keypoint_classifier\\keypoint_classifier.hdf5\n",
            "30/30 [==============================] - 0s 4ms/step - loss: 1.3860 - accuracy: 0.3706 - val_loss: 1.2931 - val_accuracy: 0.5543\n",
            "Epoch 3/1000\n",
            " 1/30 [>.............................] - ETA: 0s - loss: 1.3268 - accuracy: 0.3906\n",
            "Epoch 3: saving model to model/keypoint_classifier\\keypoint_classifier.hdf5\n",
            "30/30 [==============================] - 0s 4ms/step - loss: 1.3081 - accuracy: 0.4092 - val_loss: 1.2194 - val_accuracy: 0.5921\n",
            "Epoch 4/1000\n",
            "30/30 [==============================] - ETA: 0s - loss: 1.2595 - accuracy: 0.4320\n",
            "Epoch 4: saving model to model/keypoint_classifier\\keypoint_classifier.hdf5\n",
            "30/30 [==============================] - 0s 4ms/step - loss: 1.2595 - accuracy: 0.4320 - val_loss: 1.1519 - val_accuracy: 0.6388\n",
            "Epoch 5/1000\n",
            "22/30 [=====================>........] - ETA: 0s - loss: 1.2197 - accuracy: 0.4631\n",
            "Epoch 5: saving model to model/keypoint_classifier\\keypoint_classifier.hdf5\n",
            "30/30 [==============================] - 0s 5ms/step - loss: 1.2076 - accuracy: 0.4709 - val_loss: 1.0939 - val_accuracy: 0.6669\n",
            "Epoch 6/1000\n",
            "22/30 [=====================>........] - ETA: 0s - loss: 1.1652 - accuracy: 0.4986\n",
            "Epoch 6: saving model to model/keypoint_classifier\\keypoint_classifier.hdf5\n",
            "30/30 [==============================] - 0s 4ms/step - loss: 1.1558 - accuracy: 0.4996 - val_loss: 1.0298 - val_accuracy: 0.6935\n",
            "Epoch 7/1000\n",
            "29/30 [============================>.] - ETA: 0s - loss: 1.1053 - accuracy: 0.5318\n",
            "Epoch 7: saving model to model/keypoint_classifier\\keypoint_classifier.hdf5\n",
            "30/30 [==============================] - 0s 4ms/step - loss: 1.1047 - accuracy: 0.5320 - val_loss: 0.9699 - val_accuracy: 0.6999\n",
            "Epoch 8/1000\n",
            "30/30 [==============================] - ETA: 0s - loss: 1.0710 - accuracy: 0.5377\n",
            "Epoch 8: saving model to model/keypoint_classifier\\keypoint_classifier.hdf5\n",
            "30/30 [==============================] - 0s 4ms/step - loss: 1.0710 - accuracy: 0.5377 - val_loss: 0.9113 - val_accuracy: 0.7136\n",
            "Epoch 9/1000\n",
            "30/30 [==============================] - ETA: 0s - loss: 1.0476 - accuracy: 0.5404\n",
            "Epoch 9: saving model to model/keypoint_classifier\\keypoint_classifier.hdf5\n",
            "30/30 [==============================] - 0s 4ms/step - loss: 1.0476 - accuracy: 0.5404 - val_loss: 0.8616 - val_accuracy: 0.7273\n",
            "Epoch 10/1000\n",
            "27/30 [==========================>...] - ETA: 0s - loss: 1.0130 - accuracy: 0.5796\n",
            "Epoch 10: saving model to model/keypoint_classifier\\keypoint_classifier.hdf5\n",
            "30/30 [==============================] - 0s 4ms/step - loss: 1.0101 - accuracy: 0.5811 - val_loss: 0.8121 - val_accuracy: 0.7578\n",
            "Epoch 11/1000\n",
            "30/30 [==============================] - ETA: 0s - loss: 0.9840 - accuracy: 0.5843\n",
            "Epoch 11: saving model to model/keypoint_classifier\\keypoint_classifier.hdf5\n",
            "30/30 [==============================] - 0s 4ms/step - loss: 0.9840 - accuracy: 0.5843 - val_loss: 0.7714 - val_accuracy: 0.7973\n",
            "Epoch 12/1000\n",
            "30/30 [==============================] - ETA: 0s - loss: 0.9563 - accuracy: 0.6023\n",
            "Epoch 12: saving model to model/keypoint_classifier\\keypoint_classifier.hdf5\n",
            "30/30 [==============================] - 0s 4ms/step - loss: 0.9563 - accuracy: 0.6023 - val_loss: 0.7284 - val_accuracy: 0.8343\n",
            "Epoch 13/1000\n",
            "29/30 [============================>.] - ETA: 0s - loss: 0.9321 - accuracy: 0.6126\n",
            "Epoch 13: saving model to model/keypoint_classifier\\keypoint_classifier.hdf5\n",
            "30/30 [==============================] - 0s 4ms/step - loss: 0.9326 - accuracy: 0.6122 - val_loss: 0.6970 - val_accuracy: 0.8391\n",
            "Epoch 14/1000\n",
            "29/30 [============================>.] - ETA: 0s - loss: 0.9169 - accuracy: 0.6258\n",
            "Epoch 14: saving model to model/keypoint_classifier\\keypoint_classifier.hdf5\n",
            "30/30 [==============================] - 0s 4ms/step - loss: 0.9156 - accuracy: 0.6264 - val_loss: 0.6660 - val_accuracy: 0.8520\n",
            "Epoch 15/1000\n",
            "29/30 [============================>.] - ETA: 0s - loss: 0.8876 - accuracy: 0.6363\n",
            "Epoch 15: saving model to model/keypoint_classifier\\keypoint_classifier.hdf5\n",
            "30/30 [==============================] - 0s 4ms/step - loss: 0.8870 - accuracy: 0.6364 - val_loss: 0.6338 - val_accuracy: 0.8737\n",
            "Epoch 16/1000\n",
            "29/30 [============================>.] - ETA: 0s - loss: 0.8799 - accuracy: 0.6382\n",
            "Epoch 16: saving model to model/keypoint_classifier\\keypoint_classifier.hdf5\n",
            "30/30 [==============================] - 0s 4ms/step - loss: 0.8803 - accuracy: 0.6374 - val_loss: 0.6121 - val_accuracy: 0.8785\n",
            "Epoch 17/1000\n",
            "29/30 [============================>.] - ETA: 0s - loss: 0.8467 - accuracy: 0.6471\n",
            "Epoch 17: saving model to model/keypoint_classifier\\keypoint_classifier.hdf5\n",
            "30/30 [==============================] - 0s 4ms/step - loss: 0.8463 - accuracy: 0.6471 - val_loss: 0.5849 - val_accuracy: 0.8745\n",
            "Epoch 18/1000\n",
            "28/30 [===========================>..] - ETA: 0s - loss: 0.8229 - accuracy: 0.6638\n",
            "Epoch 18: saving model to model/keypoint_classifier\\keypoint_classifier.hdf5\n",
            "30/30 [==============================] - 0s 4ms/step - loss: 0.8229 - accuracy: 0.6643 - val_loss: 0.5591 - val_accuracy: 0.8914\n",
            "Epoch 19/1000\n",
            "28/30 [===========================>..] - ETA: 0s - loss: 0.8110 - accuracy: 0.6766\n",
            "Epoch 19: saving model to model/keypoint_classifier\\keypoint_classifier.hdf5\n",
            "30/30 [==============================] - 0s 4ms/step - loss: 0.8114 - accuracy: 0.6761 - val_loss: 0.5470 - val_accuracy: 0.8882\n",
            "Epoch 20/1000\n",
            "28/30 [===========================>..] - ETA: 0s - loss: 0.8079 - accuracy: 0.6727\n",
            "Epoch 20: saving model to model/keypoint_classifier\\keypoint_classifier.hdf5\n",
            "30/30 [==============================] - 0s 4ms/step - loss: 0.8048 - accuracy: 0.6747 - val_loss: 0.5229 - val_accuracy: 0.8930\n",
            "Epoch 21/1000\n",
            "28/30 [===========================>..] - ETA: 0s - loss: 0.7859 - accuracy: 0.6772\n",
            "Epoch 21: saving model to model/keypoint_classifier\\keypoint_classifier.hdf5\n",
            "30/30 [==============================] - 0s 4ms/step - loss: 0.7839 - accuracy: 0.6785 - val_loss: 0.5042 - val_accuracy: 0.8970\n",
            "Epoch 22/1000\n",
            "30/30 [==============================] - ETA: 0s - loss: 0.7710 - accuracy: 0.6887\n",
            "Epoch 22: saving model to model/keypoint_classifier\\keypoint_classifier.hdf5\n",
            "30/30 [==============================] - 0s 4ms/step - loss: 0.7710 - accuracy: 0.6887 - val_loss: 0.4941 - val_accuracy: 0.8986\n",
            "Epoch 23/1000\n",
            "15/30 [==============>...............] - ETA: 0s - loss: 0.7580 - accuracy: 0.6885\n",
            "Epoch 23: saving model to model/keypoint_classifier\\keypoint_classifier.hdf5\n",
            "30/30 [==============================] - 0s 6ms/step - loss: 0.7588 - accuracy: 0.6946 - val_loss: 0.4766 - val_accuracy: 0.8986\n",
            "Epoch 24/1000\n",
            "30/30 [==============================] - ETA: 0s - loss: 0.7613 - accuracy: 0.6908\n",
            "Epoch 24: saving model to model/keypoint_classifier\\keypoint_classifier.hdf5\n",
            "30/30 [==============================] - 0s 4ms/step - loss: 0.7613 - accuracy: 0.6908 - val_loss: 0.4697 - val_accuracy: 0.8994\n",
            "Epoch 25/1000\n",
            "26/30 [=========================>....] - ETA: 0s - loss: 0.7699 - accuracy: 0.6914\n",
            "Epoch 25: saving model to model/keypoint_classifier\\keypoint_classifier.hdf5\n",
            "30/30 [==============================] - 0s 4ms/step - loss: 0.7648 - accuracy: 0.6946 - val_loss: 0.4576 - val_accuracy: 0.9155\n",
            "Epoch 26/1000\n",
            "28/30 [===========================>..] - ETA: 0s - loss: 0.7493 - accuracy: 0.7056\n",
            "Epoch 26: saving model to model/keypoint_classifier\\keypoint_classifier.hdf5\n",
            "30/30 [==============================] - 0s 4ms/step - loss: 0.7485 - accuracy: 0.7058 - val_loss: 0.4447 - val_accuracy: 0.9195\n",
            "Epoch 27/1000\n",
            "30/30 [==============================] - ETA: 0s - loss: 0.7367 - accuracy: 0.7031\n",
            "Epoch 27: saving model to model/keypoint_classifier\\keypoint_classifier.hdf5\n",
            "30/30 [==============================] - 0s 4ms/step - loss: 0.7367 - accuracy: 0.7031 - val_loss: 0.4363 - val_accuracy: 0.9212\n",
            "Epoch 28/1000\n",
            " 1/30 [>.............................] - ETA: 0s - loss: 0.6768 - accuracy: 0.7031\n",
            "Epoch 28: saving model to model/keypoint_classifier\\keypoint_classifier.hdf5\n",
            "30/30 [==============================] - 0s 4ms/step - loss: 0.7286 - accuracy: 0.6967 - val_loss: 0.4281 - val_accuracy: 0.9236\n",
            "Epoch 29/1000\n",
            "30/30 [==============================] - ETA: 0s - loss: 0.7111 - accuracy: 0.7174\n",
            "Epoch 29: saving model to model/keypoint_classifier\\keypoint_classifier.hdf5\n",
            "30/30 [==============================] - 0s 4ms/step - loss: 0.7111 - accuracy: 0.7174 - val_loss: 0.4194 - val_accuracy: 0.9268\n",
            "Epoch 30/1000\n",
            "26/30 [=========================>....] - ETA: 0s - loss: 0.7264 - accuracy: 0.7052\n",
            "Epoch 30: saving model to model/keypoint_classifier\\keypoint_classifier.hdf5\n",
            "30/30 [==============================] - 0s 5ms/step - loss: 0.7261 - accuracy: 0.7064 - val_loss: 0.4073 - val_accuracy: 0.9300\n",
            "Epoch 31/1000\n",
            "24/30 [=======================>......] - ETA: 0s - loss: 0.7198 - accuracy: 0.7132\n",
            "Epoch 31: saving model to model/keypoint_classifier\\keypoint_classifier.hdf5\n",
            "30/30 [==============================] - 0s 5ms/step - loss: 0.7189 - accuracy: 0.7160 - val_loss: 0.4108 - val_accuracy: 0.9284\n",
            "Epoch 32/1000\n",
            "25/30 [========================>.....] - ETA: 0s - loss: 0.7386 - accuracy: 0.7038\n",
            "Epoch 32: saving model to model/keypoint_classifier\\keypoint_classifier.hdf5\n",
            "30/30 [==============================] - 0s 4ms/step - loss: 0.7320 - accuracy: 0.7026 - val_loss: 0.4030 - val_accuracy: 0.9348\n",
            "Epoch 33/1000\n",
            "24/30 [=======================>......] - ETA: 0s - loss: 0.7047 - accuracy: 0.7158\n",
            "Epoch 33: saving model to model/keypoint_classifier\\keypoint_classifier.hdf5\n",
            "30/30 [==============================] - 0s 5ms/step - loss: 0.7000 - accuracy: 0.7179 - val_loss: 0.3960 - val_accuracy: 0.9364\n",
            "Epoch 34/1000\n",
            "25/30 [========================>.....] - ETA: 0s - loss: 0.6787 - accuracy: 0.7387\n",
            "Epoch 34: saving model to model/keypoint_classifier\\keypoint_classifier.hdf5\n",
            "30/30 [==============================] - 0s 5ms/step - loss: 0.6782 - accuracy: 0.7396 - val_loss: 0.3866 - val_accuracy: 0.9397\n",
            "Epoch 35/1000\n",
            "27/30 [==========================>...] - ETA: 0s - loss: 0.6995 - accuracy: 0.7274\n",
            "Epoch 35: saving model to model/keypoint_classifier\\keypoint_classifier.hdf5\n",
            "30/30 [==============================] - 0s 4ms/step - loss: 0.6932 - accuracy: 0.7294 - val_loss: 0.3830 - val_accuracy: 0.9421\n",
            "Epoch 36/1000\n",
            "24/30 [=======================>......] - ETA: 0s - loss: 0.6843 - accuracy: 0.7344\n",
            "Epoch 36: saving model to model/keypoint_classifier\\keypoint_classifier.hdf5\n",
            "30/30 [==============================] - 0s 5ms/step - loss: 0.6876 - accuracy: 0.7316 - val_loss: 0.3786 - val_accuracy: 0.9348\n",
            "Epoch 37/1000\n",
            "23/30 [======================>.......] - ETA: 0s - loss: 0.6728 - accuracy: 0.7357\n",
            "Epoch 37: saving model to model/keypoint_classifier\\keypoint_classifier.hdf5\n",
            "30/30 [==============================] - 0s 5ms/step - loss: 0.6734 - accuracy: 0.7369 - val_loss: 0.3764 - val_accuracy: 0.9389\n",
            "Epoch 38/1000\n",
            "24/30 [=======================>......] - ETA: 0s - loss: 0.6504 - accuracy: 0.7425\n",
            "Epoch 38: saving model to model/keypoint_classifier\\keypoint_classifier.hdf5\n",
            "30/30 [==============================] - 0s 6ms/step - loss: 0.6544 - accuracy: 0.7404 - val_loss: 0.3709 - val_accuracy: 0.9405\n",
            "Epoch 39/1000\n",
            "19/30 [==================>...........] - ETA: 0s - loss: 0.6733 - accuracy: 0.7438\n",
            "Epoch 39: saving model to model/keypoint_classifier\\keypoint_classifier.hdf5\n",
            "30/30 [==============================] - 0s 5ms/step - loss: 0.6654 - accuracy: 0.7434 - val_loss: 0.3573 - val_accuracy: 0.9445\n",
            "Epoch 40/1000\n",
            "24/30 [=======================>......] - ETA: 0s - loss: 0.6613 - accuracy: 0.7497\n",
            "Epoch 40: saving model to model/keypoint_classifier\\keypoint_classifier.hdf5\n",
            "30/30 [==============================] - 0s 5ms/step - loss: 0.6672 - accuracy: 0.7460 - val_loss: 0.3505 - val_accuracy: 0.9461\n",
            "Epoch 41/1000\n",
            "23/30 [======================>.......] - ETA: 0s - loss: 0.6630 - accuracy: 0.7398\n",
            "Epoch 41: saving model to model/keypoint_classifier\\keypoint_classifier.hdf5\n",
            "30/30 [==============================] - 0s 5ms/step - loss: 0.6656 - accuracy: 0.7388 - val_loss: 0.3490 - val_accuracy: 0.9421\n",
            "Epoch 42/1000\n",
            "24/30 [=======================>......] - ETA: 0s - loss: 0.6514 - accuracy: 0.7399\n",
            "Epoch 42: saving model to model/keypoint_classifier\\keypoint_classifier.hdf5\n",
            "30/30 [==============================] - 0s 5ms/step - loss: 0.6516 - accuracy: 0.7423 - val_loss: 0.3490 - val_accuracy: 0.9429\n",
            "Epoch 43/1000\n",
            "27/30 [==========================>...] - ETA: 0s - loss: 0.6530 - accuracy: 0.7514\n",
            "Epoch 43: saving model to model/keypoint_classifier\\keypoint_classifier.hdf5\n",
            "30/30 [==============================] - 0s 4ms/step - loss: 0.6565 - accuracy: 0.7490 - val_loss: 0.3464 - val_accuracy: 0.9437\n",
            "Epoch 44/1000\n",
            "26/30 [=========================>....] - ETA: 0s - loss: 0.6538 - accuracy: 0.7446\n",
            "Epoch 44: saving model to model/keypoint_classifier\\keypoint_classifier.hdf5\n",
            "30/30 [==============================] - 0s 4ms/step - loss: 0.6674 - accuracy: 0.7380 - val_loss: 0.3431 - val_accuracy: 0.9437\n",
            "Epoch 45/1000\n",
            "24/30 [=======================>......] - ETA: 0s - loss: 0.6445 - accuracy: 0.7464\n",
            "Epoch 45: saving model to model/keypoint_classifier\\keypoint_classifier.hdf5\n",
            "30/30 [==============================] - 0s 5ms/step - loss: 0.6481 - accuracy: 0.7477 - val_loss: 0.3421 - val_accuracy: 0.9469\n",
            "Epoch 46/1000\n",
            "25/30 [========================>.....] - ETA: 0s - loss: 0.6590 - accuracy: 0.7491\n",
            "Epoch 46: saving model to model/keypoint_classifier\\keypoint_classifier.hdf5\n",
            "30/30 [==============================] - 0s 5ms/step - loss: 0.6541 - accuracy: 0.7506 - val_loss: 0.3342 - val_accuracy: 0.9461\n",
            "Epoch 47/1000\n",
            "22/30 [=====================>........] - ETA: 0s - loss: 0.6490 - accuracy: 0.7411\n",
            "Epoch 47: saving model to model/keypoint_classifier\\keypoint_classifier.hdf5\n",
            "30/30 [==============================] - 0s 5ms/step - loss: 0.6466 - accuracy: 0.7463 - val_loss: 0.3287 - val_accuracy: 0.9501\n",
            "Epoch 48/1000\n",
            "27/30 [==========================>...] - ETA: 0s - loss: 0.6325 - accuracy: 0.7538\n",
            "Epoch 48: saving model to model/keypoint_classifier\\keypoint_classifier.hdf5\n",
            "30/30 [==============================] - 0s 4ms/step - loss: 0.6345 - accuracy: 0.7538 - val_loss: 0.3217 - val_accuracy: 0.9469\n",
            "Epoch 49/1000\n",
            "27/30 [==========================>...] - ETA: 0s - loss: 0.6503 - accuracy: 0.7575\n",
            "Epoch 49: saving model to model/keypoint_classifier\\keypoint_classifier.hdf5\n",
            "30/30 [==============================] - 0s 4ms/step - loss: 0.6492 - accuracy: 0.7603 - val_loss: 0.3255 - val_accuracy: 0.9533\n",
            "Epoch 50/1000\n",
            "26/30 [=========================>....] - ETA: 0s - loss: 0.6398 - accuracy: 0.7527\n",
            "Epoch 50: saving model to model/keypoint_classifier\\keypoint_classifier.hdf5\n",
            "30/30 [==============================] - 0s 4ms/step - loss: 0.6374 - accuracy: 0.7511 - val_loss: 0.3241 - val_accuracy: 0.9509\n",
            "Epoch 51/1000\n",
            "25/30 [========================>.....] - ETA: 0s - loss: 0.6174 - accuracy: 0.7625\n",
            "Epoch 51: saving model to model/keypoint_classifier\\keypoint_classifier.hdf5\n",
            "30/30 [==============================] - 0s 4ms/step - loss: 0.6176 - accuracy: 0.7624 - val_loss: 0.3214 - val_accuracy: 0.9461\n",
            "Epoch 52/1000\n",
            "24/30 [=======================>......] - ETA: 0s - loss: 0.6237 - accuracy: 0.7568\n",
            "Epoch 52: saving model to model/keypoint_classifier\\keypoint_classifier.hdf5\n",
            "30/30 [==============================] - 0s 5ms/step - loss: 0.6240 - accuracy: 0.7544 - val_loss: 0.3123 - val_accuracy: 0.9509\n",
            "Epoch 53/1000\n",
            "25/30 [========================>.....] - ETA: 0s - loss: 0.6069 - accuracy: 0.7772\n",
            "Epoch 53: saving model to model/keypoint_classifier\\keypoint_classifier.hdf5\n",
            "30/30 [==============================] - 0s 5ms/step - loss: 0.6144 - accuracy: 0.7747 - val_loss: 0.3069 - val_accuracy: 0.9549\n",
            "Epoch 54/1000\n",
            "24/30 [=======================>......] - ETA: 0s - loss: 0.6288 - accuracy: 0.7695\n",
            "Epoch 54: saving model to model/keypoint_classifier\\keypoint_classifier.hdf5\n",
            "30/30 [==============================] - 0s 5ms/step - loss: 0.6266 - accuracy: 0.7713 - val_loss: 0.3076 - val_accuracy: 0.9517\n",
            "Epoch 55/1000\n",
            "25/30 [========================>.....] - ETA: 0s - loss: 0.6074 - accuracy: 0.7609\n",
            "Epoch 55: saving model to model/keypoint_classifier\\keypoint_classifier.hdf5\n",
            "30/30 [==============================] - 0s 4ms/step - loss: 0.6114 - accuracy: 0.7592 - val_loss: 0.3105 - val_accuracy: 0.9469\n",
            "Epoch 56/1000\n",
            "26/30 [=========================>....] - ETA: 0s - loss: 0.6176 - accuracy: 0.7665\n",
            "Epoch 56: saving model to model/keypoint_classifier\\keypoint_classifier.hdf5\n",
            "30/30 [==============================] - 0s 4ms/step - loss: 0.6145 - accuracy: 0.7648 - val_loss: 0.3079 - val_accuracy: 0.9525\n",
            "Epoch 57/1000\n",
            "28/30 [===========================>..] - ETA: 0s - loss: 0.6288 - accuracy: 0.7556\n",
            "Epoch 57: saving model to model/keypoint_classifier\\keypoint_classifier.hdf5\n",
            "30/30 [==============================] - 0s 4ms/step - loss: 0.6257 - accuracy: 0.7565 - val_loss: 0.2999 - val_accuracy: 0.9525\n",
            "Epoch 58/1000\n",
            "29/30 [============================>.] - ETA: 0s - loss: 0.6272 - accuracy: 0.7621\n",
            "Epoch 58: saving model to model/keypoint_classifier\\keypoint_classifier.hdf5\n",
            "30/30 [==============================] - 0s 4ms/step - loss: 0.6274 - accuracy: 0.7621 - val_loss: 0.2998 - val_accuracy: 0.9485\n",
            "Epoch 59/1000\n",
            "30/30 [==============================] - ETA: 0s - loss: 0.6114 - accuracy: 0.7648\n",
            "Epoch 59: saving model to model/keypoint_classifier\\keypoint_classifier.hdf5\n",
            "30/30 [==============================] - 0s 4ms/step - loss: 0.6114 - accuracy: 0.7648 - val_loss: 0.2987 - val_accuracy: 0.9493\n",
            "Epoch 60/1000\n",
            "28/30 [===========================>..] - ETA: 0s - loss: 0.6189 - accuracy: 0.7628\n",
            "Epoch 60: saving model to model/keypoint_classifier\\keypoint_classifier.hdf5\n",
            "30/30 [==============================] - 0s 4ms/step - loss: 0.6166 - accuracy: 0.7645 - val_loss: 0.2960 - val_accuracy: 0.9541\n",
            "Epoch 61/1000\n",
            "28/30 [===========================>..] - ETA: 0s - loss: 0.6104 - accuracy: 0.7620\n",
            "Epoch 61: saving model to model/keypoint_classifier\\keypoint_classifier.hdf5\n",
            "30/30 [==============================] - 0s 4ms/step - loss: 0.6059 - accuracy: 0.7635 - val_loss: 0.2965 - val_accuracy: 0.9533\n",
            "Epoch 62/1000\n",
            "24/30 [=======================>......] - ETA: 0s - loss: 0.5987 - accuracy: 0.7734\n",
            "Epoch 62: saving model to model/keypoint_classifier\\keypoint_classifier.hdf5\n",
            "30/30 [==============================] - 0s 5ms/step - loss: 0.5999 - accuracy: 0.7758 - val_loss: 0.2858 - val_accuracy: 0.9582\n",
            "Epoch 63/1000\n",
            "26/30 [=========================>....] - ETA: 0s - loss: 0.5868 - accuracy: 0.7797\n",
            "Epoch 63: saving model to model/keypoint_classifier\\keypoint_classifier.hdf5\n",
            "30/30 [==============================] - 0s 4ms/step - loss: 0.5876 - accuracy: 0.7788 - val_loss: 0.2779 - val_accuracy: 0.9598\n",
            "Epoch 64/1000\n",
            "25/30 [========================>.....] - ETA: 0s - loss: 0.5925 - accuracy: 0.7753\n",
            "Epoch 64: saving model to model/keypoint_classifier\\keypoint_classifier.hdf5\n",
            "30/30 [==============================] - 0s 4ms/step - loss: 0.5963 - accuracy: 0.7723 - val_loss: 0.2850 - val_accuracy: 0.9533\n",
            "Epoch 65/1000\n",
            "26/30 [=========================>....] - ETA: 0s - loss: 0.6060 - accuracy: 0.7686\n",
            "Epoch 65: saving model to model/keypoint_classifier\\keypoint_classifier.hdf5\n",
            "30/30 [==============================] - 0s 4ms/step - loss: 0.6031 - accuracy: 0.7702 - val_loss: 0.2846 - val_accuracy: 0.9582\n",
            "Epoch 66/1000\n",
            "22/30 [=====================>........] - ETA: 0s - loss: 0.5911 - accuracy: 0.7710\n",
            "Epoch 66: saving model to model/keypoint_classifier\\keypoint_classifier.hdf5\n",
            "30/30 [==============================] - 0s 6ms/step - loss: 0.5802 - accuracy: 0.7796 - val_loss: 0.2832 - val_accuracy: 0.9509\n",
            "Epoch 67/1000\n",
            "23/30 [======================>.......] - ETA: 0s - loss: 0.5921 - accuracy: 0.7636\n",
            "Epoch 67: saving model to model/keypoint_classifier\\keypoint_classifier.hdf5\n",
            "30/30 [==============================] - 0s 5ms/step - loss: 0.5843 - accuracy: 0.7737 - val_loss: 0.2780 - val_accuracy: 0.9566\n",
            "Epoch 68/1000\n",
            "19/30 [==================>...........] - ETA: 0s - loss: 0.5742 - accuracy: 0.7882\n",
            "Epoch 68: saving model to model/keypoint_classifier\\keypoint_classifier.hdf5\n",
            "30/30 [==============================] - 0s 5ms/step - loss: 0.5800 - accuracy: 0.7884 - val_loss: 0.2786 - val_accuracy: 0.9501\n",
            "Epoch 69/1000\n",
            "29/30 [============================>.] - ETA: 0s - loss: 0.6059 - accuracy: 0.7678\n",
            "Epoch 69: saving model to model/keypoint_classifier\\keypoint_classifier.hdf5\n",
            "30/30 [==============================] - 0s 4ms/step - loss: 0.6053 - accuracy: 0.7683 - val_loss: 0.2743 - val_accuracy: 0.9533\n",
            "Epoch 70/1000\n",
            "25/30 [========================>.....] - ETA: 0s - loss: 0.5875 - accuracy: 0.7819\n",
            "Epoch 70: saving model to model/keypoint_classifier\\keypoint_classifier.hdf5\n",
            "30/30 [==============================] - 0s 4ms/step - loss: 0.5934 - accuracy: 0.7772 - val_loss: 0.2716 - val_accuracy: 0.9549\n",
            "Epoch 71/1000\n",
            "23/30 [======================>.......] - ETA: 0s - loss: 0.5907 - accuracy: 0.7748\n",
            "Epoch 71: saving model to model/keypoint_classifier\\keypoint_classifier.hdf5\n",
            "30/30 [==============================] - 0s 4ms/step - loss: 0.5838 - accuracy: 0.7801 - val_loss: 0.2725 - val_accuracy: 0.9501\n",
            "Epoch 72/1000\n",
            "21/30 [====================>.........] - ETA: 0s - loss: 0.6043 - accuracy: 0.7749\n",
            "Epoch 72: saving model to model/keypoint_classifier\\keypoint_classifier.hdf5\n",
            "30/30 [==============================] - 0s 6ms/step - loss: 0.5972 - accuracy: 0.7753 - val_loss: 0.2678 - val_accuracy: 0.9549\n",
            "Epoch 73/1000\n",
            "23/30 [======================>.......] - ETA: 0s - loss: 0.5551 - accuracy: 0.7911\n",
            "Epoch 73: saving model to model/keypoint_classifier\\keypoint_classifier.hdf5\n",
            "30/30 [==============================] - 0s 5ms/step - loss: 0.5624 - accuracy: 0.7906 - val_loss: 0.2629 - val_accuracy: 0.9549\n",
            "Epoch 74/1000\n",
            "23/30 [======================>.......] - ETA: 0s - loss: 0.5699 - accuracy: 0.7921\n",
            "Epoch 74: saving model to model/keypoint_classifier\\keypoint_classifier.hdf5\n",
            "30/30 [==============================] - 0s 5ms/step - loss: 0.5818 - accuracy: 0.7868 - val_loss: 0.2672 - val_accuracy: 0.9549\n",
            "Epoch 75/1000\n",
            "24/30 [=======================>......] - ETA: 0s - loss: 0.5788 - accuracy: 0.7816\n",
            "Epoch 75: saving model to model/keypoint_classifier\\keypoint_classifier.hdf5\n",
            "30/30 [==============================] - 0s 5ms/step - loss: 0.5839 - accuracy: 0.7796 - val_loss: 0.2637 - val_accuracy: 0.9541\n",
            "Epoch 76/1000\n",
            "25/30 [========================>.....] - ETA: 0s - loss: 0.5751 - accuracy: 0.7831\n",
            "Epoch 76: saving model to model/keypoint_classifier\\keypoint_classifier.hdf5\n",
            "30/30 [==============================] - 0s 4ms/step - loss: 0.5720 - accuracy: 0.7847 - val_loss: 0.2655 - val_accuracy: 0.9558\n",
            "Epoch 77/1000\n",
            "25/30 [========================>.....] - ETA: 0s - loss: 0.6005 - accuracy: 0.7747\n",
            "Epoch 77: saving model to model/keypoint_classifier\\keypoint_classifier.hdf5\n",
            "30/30 [==============================] - 0s 4ms/step - loss: 0.5947 - accuracy: 0.7763 - val_loss: 0.2690 - val_accuracy: 0.9541\n",
            "Epoch 78/1000\n",
            "24/30 [=======================>......] - ETA: 0s - loss: 0.5861 - accuracy: 0.7741\n",
            "Epoch 78: saving model to model/keypoint_classifier\\keypoint_classifier.hdf5\n",
            "30/30 [==============================] - 0s 4ms/step - loss: 0.5813 - accuracy: 0.7761 - val_loss: 0.2593 - val_accuracy: 0.9574\n",
            "Epoch 79/1000\n",
            "22/30 [=====================>........] - ETA: 0s - loss: 0.5544 - accuracy: 0.7827\n",
            "Epoch 79: saving model to model/keypoint_classifier\\keypoint_classifier.hdf5\n",
            "30/30 [==============================] - 0s 4ms/step - loss: 0.5682 - accuracy: 0.7761 - val_loss: 0.2659 - val_accuracy: 0.9566\n",
            "Epoch 80/1000\n",
            "28/30 [===========================>..] - ETA: 0s - loss: 0.5903 - accuracy: 0.7885\n",
            "Epoch 80: saving model to model/keypoint_classifier\\keypoint_classifier.hdf5\n",
            "30/30 [==============================] - 0s 4ms/step - loss: 0.5909 - accuracy: 0.7881 - val_loss: 0.2667 - val_accuracy: 0.9533\n",
            "Epoch 81/1000\n",
            "27/30 [==========================>...] - ETA: 0s - loss: 0.5737 - accuracy: 0.7841\n",
            "Epoch 81: saving model to model/keypoint_classifier\\keypoint_classifier.hdf5\n",
            "30/30 [==============================] - 0s 4ms/step - loss: 0.5726 - accuracy: 0.7833 - val_loss: 0.2647 - val_accuracy: 0.9606\n",
            "Epoch 82/1000\n",
            "29/30 [============================>.] - ETA: 0s - loss: 0.5688 - accuracy: 0.7831\n",
            "Epoch 82: saving model to model/keypoint_classifier\\keypoint_classifier.hdf5\n",
            "30/30 [==============================] - 0s 4ms/step - loss: 0.5673 - accuracy: 0.7839 - val_loss: 0.2646 - val_accuracy: 0.9566\n",
            "Epoch 83/1000\n",
            "25/30 [========================>.....] - ETA: 0s - loss: 0.5592 - accuracy: 0.7778\n",
            "Epoch 83: saving model to model/keypoint_classifier\\keypoint_classifier.hdf5\n",
            "30/30 [==============================] - 0s 4ms/step - loss: 0.5549 - accuracy: 0.7806 - val_loss: 0.2565 - val_accuracy: 0.9582\n",
            "Epoch 84/1000\n",
            "28/30 [===========================>..] - ETA: 0s - loss: 0.5808 - accuracy: 0.7829\n",
            "Epoch 84: saving model to model/keypoint_classifier\\keypoint_classifier.hdf5\n",
            "30/30 [==============================] - 0s 4ms/step - loss: 0.5820 - accuracy: 0.7814 - val_loss: 0.2570 - val_accuracy: 0.9582\n",
            "Epoch 85/1000\n",
            "27/30 [==========================>...] - ETA: 0s - loss: 0.5843 - accuracy: 0.7824\n",
            "Epoch 85: saving model to model/keypoint_classifier\\keypoint_classifier.hdf5\n",
            "30/30 [==============================] - 0s 4ms/step - loss: 0.5833 - accuracy: 0.7831 - val_loss: 0.2616 - val_accuracy: 0.9525\n",
            "Epoch 86/1000\n",
            "24/30 [=======================>......] - ETA: 0s - loss: 0.5570 - accuracy: 0.7926\n",
            "Epoch 86: saving model to model/keypoint_classifier\\keypoint_classifier.hdf5\n",
            "30/30 [==============================] - 0s 4ms/step - loss: 0.5602 - accuracy: 0.7916 - val_loss: 0.2597 - val_accuracy: 0.9549\n",
            "Epoch 87/1000\n",
            "28/30 [===========================>..] - ETA: 0s - loss: 0.5346 - accuracy: 0.7952\n",
            "Epoch 87: saving model to model/keypoint_classifier\\keypoint_classifier.hdf5\n",
            "30/30 [==============================] - 0s 4ms/step - loss: 0.5331 - accuracy: 0.7959 - val_loss: 0.2443 - val_accuracy: 0.9630\n",
            "Epoch 88/1000\n",
            "28/30 [===========================>..] - ETA: 0s - loss: 0.5579 - accuracy: 0.7849\n",
            "Epoch 88: saving model to model/keypoint_classifier\\keypoint_classifier.hdf5\n",
            "30/30 [==============================] - 0s 4ms/step - loss: 0.5571 - accuracy: 0.7849 - val_loss: 0.2497 - val_accuracy: 0.9590\n",
            "Epoch 89/1000\n",
            "28/30 [===========================>..] - ETA: 0s - loss: 0.5703 - accuracy: 0.7840\n",
            "Epoch 89: saving model to model/keypoint_classifier\\keypoint_classifier.hdf5\n",
            "30/30 [==============================] - 0s 4ms/step - loss: 0.5715 - accuracy: 0.7844 - val_loss: 0.2508 - val_accuracy: 0.9630\n",
            "Epoch 90/1000\n",
            "26/30 [=========================>....] - ETA: 0s - loss: 0.5447 - accuracy: 0.7996\n",
            "Epoch 90: saving model to model/keypoint_classifier\\keypoint_classifier.hdf5\n",
            "30/30 [==============================] - 0s 4ms/step - loss: 0.5476 - accuracy: 0.7970 - val_loss: 0.2548 - val_accuracy: 0.9574\n",
            "Epoch 91/1000\n",
            "22/30 [=====================>........] - ETA: 0s - loss: 0.5673 - accuracy: 0.7908\n",
            "Epoch 91: saving model to model/keypoint_classifier\\keypoint_classifier.hdf5\n",
            "30/30 [==============================] - 0s 4ms/step - loss: 0.5593 - accuracy: 0.7940 - val_loss: 0.2506 - val_accuracy: 0.9582\n",
            "Epoch 92/1000\n",
            "27/30 [==========================>...] - ETA: 0s - loss: 0.5663 - accuracy: 0.7844\n",
            "Epoch 92: saving model to model/keypoint_classifier\\keypoint_classifier.hdf5\n",
            "30/30 [==============================] - 0s 4ms/step - loss: 0.5671 - accuracy: 0.7831 - val_loss: 0.2541 - val_accuracy: 0.9558\n",
            "Epoch 93/1000\n",
            "23/30 [======================>.......] - ETA: 0s - loss: 0.5490 - accuracy: 0.7996\n",
            "Epoch 93: saving model to model/keypoint_classifier\\keypoint_classifier.hdf5\n",
            "30/30 [==============================] - 0s 4ms/step - loss: 0.5481 - accuracy: 0.7973 - val_loss: 0.2489 - val_accuracy: 0.9654\n",
            "Epoch 94/1000\n",
            "27/30 [==========================>...] - ETA: 0s - loss: 0.5545 - accuracy: 0.7905\n",
            "Epoch 94: saving model to model/keypoint_classifier\\keypoint_classifier.hdf5\n",
            "30/30 [==============================] - 0s 4ms/step - loss: 0.5516 - accuracy: 0.7930 - val_loss: 0.2482 - val_accuracy: 0.9582\n",
            "Epoch 95/1000\n",
            "27/30 [==========================>...] - ETA: 0s - loss: 0.5567 - accuracy: 0.7908\n",
            "Epoch 95: saving model to model/keypoint_classifier\\keypoint_classifier.hdf5\n",
            "30/30 [==============================] - 0s 4ms/step - loss: 0.5659 - accuracy: 0.7860 - val_loss: 0.2448 - val_accuracy: 0.9566\n",
            "Epoch 96/1000\n",
            "24/30 [=======================>......] - ETA: 0s - loss: 0.5550 - accuracy: 0.7871\n",
            "Epoch 96: saving model to model/keypoint_classifier\\keypoint_classifier.hdf5\n",
            "30/30 [==============================] - 0s 4ms/step - loss: 0.5551 - accuracy: 0.7892 - val_loss: 0.2486 - val_accuracy: 0.9533\n",
            "Epoch 97/1000\n",
            "28/30 [===========================>..] - ETA: 0s - loss: 0.5327 - accuracy: 0.8016\n",
            "Epoch 97: saving model to model/keypoint_classifier\\keypoint_classifier.hdf5\n",
            "30/30 [==============================] - 0s 4ms/step - loss: 0.5356 - accuracy: 0.8010 - val_loss: 0.2422 - val_accuracy: 0.9558\n",
            "Epoch 98/1000\n",
            "26/30 [=========================>....] - ETA: 0s - loss: 0.5425 - accuracy: 0.8002\n",
            "Epoch 98: saving model to model/keypoint_classifier\\keypoint_classifier.hdf5\n",
            "30/30 [==============================] - 0s 4ms/step - loss: 0.5463 - accuracy: 0.7978 - val_loss: 0.2487 - val_accuracy: 0.9501\n",
            "Epoch 99/1000\n",
            "26/30 [=========================>....] - ETA: 0s - loss: 0.5476 - accuracy: 0.7903\n",
            "Epoch 99: saving model to model/keypoint_classifier\\keypoint_classifier.hdf5\n",
            "30/30 [==============================] - 0s 4ms/step - loss: 0.5459 - accuracy: 0.7916 - val_loss: 0.2436 - val_accuracy: 0.9598\n",
            "Epoch 100/1000\n",
            "26/30 [=========================>....] - ETA: 0s - loss: 0.5497 - accuracy: 0.7954\n",
            "Epoch 100: saving model to model/keypoint_classifier\\keypoint_classifier.hdf5\n",
            "30/30 [==============================] - 0s 4ms/step - loss: 0.5453 - accuracy: 0.7965 - val_loss: 0.2471 - val_accuracy: 0.9582\n",
            "Epoch 101/1000\n",
            "28/30 [===========================>..] - ETA: 0s - loss: 0.5607 - accuracy: 0.7910\n",
            "Epoch 101: saving model to model/keypoint_classifier\\keypoint_classifier.hdf5\n",
            "30/30 [==============================] - 0s 4ms/step - loss: 0.5556 - accuracy: 0.7922 - val_loss: 0.2495 - val_accuracy: 0.9574\n",
            "Epoch 102/1000\n",
            "28/30 [===========================>..] - ETA: 0s - loss: 0.5387 - accuracy: 0.7932\n",
            "Epoch 102: saving model to model/keypoint_classifier\\keypoint_classifier.hdf5\n",
            "30/30 [==============================] - 0s 4ms/step - loss: 0.5382 - accuracy: 0.7949 - val_loss: 0.2457 - val_accuracy: 0.9582\n",
            "Epoch 103/1000\n",
            "29/30 [============================>.] - ETA: 0s - loss: 0.5434 - accuracy: 0.7888\n",
            "Epoch 103: saving model to model/keypoint_classifier\\keypoint_classifier.hdf5\n",
            "30/30 [==============================] - 0s 4ms/step - loss: 0.5430 - accuracy: 0.7887 - val_loss: 0.2487 - val_accuracy: 0.9558\n",
            "Epoch 104/1000\n",
            "27/30 [==========================>...] - ETA: 0s - loss: 0.5537 - accuracy: 0.8009\n",
            "Epoch 104: saving model to model/keypoint_classifier\\keypoint_classifier.hdf5\n",
            "30/30 [==============================] - 0s 4ms/step - loss: 0.5517 - accuracy: 0.8013 - val_loss: 0.2443 - val_accuracy: 0.9606\n",
            "Epoch 105/1000\n",
            "26/30 [=========================>....] - ETA: 0s - loss: 0.5428 - accuracy: 0.8002\n",
            "Epoch 105: saving model to model/keypoint_classifier\\keypoint_classifier.hdf5\n",
            "30/30 [==============================] - 0s 4ms/step - loss: 0.5374 - accuracy: 0.8013 - val_loss: 0.2333 - val_accuracy: 0.9606\n",
            "Epoch 106/1000\n",
            "28/30 [===========================>..] - ETA: 0s - loss: 0.5401 - accuracy: 0.8013\n",
            "Epoch 106: saving model to model/keypoint_classifier\\keypoint_classifier.hdf5\n",
            "30/30 [==============================] - 0s 4ms/step - loss: 0.5397 - accuracy: 0.8005 - val_loss: 0.2376 - val_accuracy: 0.9622\n",
            "Epoch 107/1000\n",
            "26/30 [=========================>....] - ETA: 0s - loss: 0.5374 - accuracy: 0.8041\n",
            "Epoch 107: saving model to model/keypoint_classifier\\keypoint_classifier.hdf5\n",
            "30/30 [==============================] - 0s 4ms/step - loss: 0.5304 - accuracy: 0.8067 - val_loss: 0.2384 - val_accuracy: 0.9590\n",
            "Epoch 108/1000\n",
            "28/30 [===========================>..] - ETA: 0s - loss: 0.5425 - accuracy: 0.7966\n",
            "Epoch 108: saving model to model/keypoint_classifier\\keypoint_classifier.hdf5\n",
            "30/30 [==============================] - 0s 4ms/step - loss: 0.5416 - accuracy: 0.7957 - val_loss: 0.2397 - val_accuracy: 0.9582\n",
            "Epoch 109/1000\n",
            "23/30 [======================>.......] - ETA: 0s - loss: 0.5315 - accuracy: 0.7962\n",
            "Epoch 109: saving model to model/keypoint_classifier\\keypoint_classifier.hdf5\n",
            "30/30 [==============================] - 0s 4ms/step - loss: 0.5539 - accuracy: 0.7873 - val_loss: 0.2428 - val_accuracy: 0.9558\n",
            "Epoch 110/1000\n",
            "28/30 [===========================>..] - ETA: 0s - loss: 0.5355 - accuracy: 0.7946\n",
            "Epoch 110: saving model to model/keypoint_classifier\\keypoint_classifier.hdf5\n",
            "30/30 [==============================] - 0s 4ms/step - loss: 0.5390 - accuracy: 0.7940 - val_loss: 0.2426 - val_accuracy: 0.9606\n",
            "Epoch 111/1000\n",
            "27/30 [==========================>...] - ETA: 0s - loss: 0.5458 - accuracy: 0.7983\n",
            "Epoch 111: saving model to model/keypoint_classifier\\keypoint_classifier.hdf5\n",
            "30/30 [==============================] - 0s 4ms/step - loss: 0.5454 - accuracy: 0.7991 - val_loss: 0.2471 - val_accuracy: 0.9549\n",
            "Epoch 112/1000\n",
            "25/30 [========================>.....] - ETA: 0s - loss: 0.5252 - accuracy: 0.7987\n",
            "Epoch 112: saving model to model/keypoint_classifier\\keypoint_classifier.hdf5\n",
            "30/30 [==============================] - 0s 4ms/step - loss: 0.5357 - accuracy: 0.7957 - val_loss: 0.2376 - val_accuracy: 0.9582\n",
            "Epoch 113/1000\n",
            "25/30 [========================>.....] - ETA: 0s - loss: 0.5567 - accuracy: 0.7903\n",
            "Epoch 113: saving model to model/keypoint_classifier\\keypoint_classifier.hdf5\n",
            "30/30 [==============================] - 0s 5ms/step - loss: 0.5496 - accuracy: 0.7927 - val_loss: 0.2400 - val_accuracy: 0.9574\n",
            "Epoch 114/1000\n",
            "26/30 [=========================>....] - ETA: 0s - loss: 0.5453 - accuracy: 0.8059\n",
            "Epoch 114: saving model to model/keypoint_classifier\\keypoint_classifier.hdf5\n",
            "30/30 [==============================] - 0s 4ms/step - loss: 0.5391 - accuracy: 0.8077 - val_loss: 0.2464 - val_accuracy: 0.9509\n",
            "Epoch 115/1000\n",
            "23/30 [======================>.......] - ETA: 0s - loss: 0.5079 - accuracy: 0.8101\n",
            "Epoch 115: saving model to model/keypoint_classifier\\keypoint_classifier.hdf5\n",
            "30/30 [==============================] - 0s 5ms/step - loss: 0.5165 - accuracy: 0.8075 - val_loss: 0.2346 - val_accuracy: 0.9606\n",
            "Epoch 116/1000\n",
            "24/30 [=======================>......] - ETA: 0s - loss: 0.5445 - accuracy: 0.7995\n",
            "Epoch 116: saving model to model/keypoint_classifier\\keypoint_classifier.hdf5\n",
            "30/30 [==============================] - 0s 5ms/step - loss: 0.5417 - accuracy: 0.7981 - val_loss: 0.2445 - val_accuracy: 0.9549\n",
            "Epoch 117/1000\n",
            "23/30 [======================>.......] - ETA: 0s - loss: 0.5307 - accuracy: 0.8010\n",
            "Epoch 117: saving model to model/keypoint_classifier\\keypoint_classifier.hdf5\n",
            "30/30 [==============================] - 0s 4ms/step - loss: 0.5341 - accuracy: 0.8008 - val_loss: 0.2396 - val_accuracy: 0.9606\n",
            "Epoch 118/1000\n",
            "24/30 [=======================>......] - ETA: 0s - loss: 0.5270 - accuracy: 0.8008\n",
            "Epoch 118: saving model to model/keypoint_classifier\\keypoint_classifier.hdf5\n",
            "30/30 [==============================] - 0s 6ms/step - loss: 0.5264 - accuracy: 0.8013 - val_loss: 0.2331 - val_accuracy: 0.9654\n",
            "Epoch 119/1000\n",
            "20/30 [===================>..........] - ETA: 0s - loss: 0.5290 - accuracy: 0.8059\n",
            "Epoch 119: saving model to model/keypoint_classifier\\keypoint_classifier.hdf5\n",
            "30/30 [==============================] - 0s 5ms/step - loss: 0.5304 - accuracy: 0.8042 - val_loss: 0.2364 - val_accuracy: 0.9606\n",
            "Epoch 120/1000\n",
            "27/30 [==========================>...] - ETA: 0s - loss: 0.5498 - accuracy: 0.7957\n",
            "Epoch 120: saving model to model/keypoint_classifier\\keypoint_classifier.hdf5\n",
            "30/30 [==============================] - 0s 5ms/step - loss: 0.5506 - accuracy: 0.7951 - val_loss: 0.2464 - val_accuracy: 0.9574\n",
            "Epoch 121/1000\n",
            "24/30 [=======================>......] - ETA: 0s - loss: 0.5256 - accuracy: 0.8005\n",
            "Epoch 121: saving model to model/keypoint_classifier\\keypoint_classifier.hdf5\n",
            "30/30 [==============================] - 0s 4ms/step - loss: 0.5305 - accuracy: 0.7975 - val_loss: 0.2373 - val_accuracy: 0.9566\n",
            "Epoch 122/1000\n",
            "30/30 [==============================] - ETA: 0s - loss: 0.5313 - accuracy: 0.8042\n",
            "Epoch 122: saving model to model/keypoint_classifier\\keypoint_classifier.hdf5\n",
            "30/30 [==============================] - 0s 4ms/step - loss: 0.5313 - accuracy: 0.8042 - val_loss: 0.2377 - val_accuracy: 0.9606\n",
            "Epoch 123/1000\n",
            "27/30 [==========================>...] - ETA: 0s - loss: 0.5431 - accuracy: 0.7928\n",
            "Epoch 123: saving model to model/keypoint_classifier\\keypoint_classifier.hdf5\n",
            "30/30 [==============================] - 0s 4ms/step - loss: 0.5388 - accuracy: 0.7949 - val_loss: 0.2316 - val_accuracy: 0.9622\n",
            "Epoch 124/1000\n",
            "23/30 [======================>.......] - ETA: 0s - loss: 0.5426 - accuracy: 0.7952\n",
            "Epoch 124: saving model to model/keypoint_classifier\\keypoint_classifier.hdf5\n",
            "30/30 [==============================] - 0s 5ms/step - loss: 0.5450 - accuracy: 0.7962 - val_loss: 0.2417 - val_accuracy: 0.9582\n",
            "Epoch 125/1000\n",
            "24/30 [=======================>......] - ETA: 0s - loss: 0.5326 - accuracy: 0.8044\n",
            "Epoch 125: saving model to model/keypoint_classifier\\keypoint_classifier.hdf5\n",
            "30/30 [==============================] - 0s 5ms/step - loss: 0.5310 - accuracy: 0.8048 - val_loss: 0.2444 - val_accuracy: 0.9614\n",
            "Epoch 126/1000\n",
            "25/30 [========================>.....] - ETA: 0s - loss: 0.5210 - accuracy: 0.8078\n",
            "Epoch 126: saving model to model/keypoint_classifier\\keypoint_classifier.hdf5\n",
            "30/30 [==============================] - 0s 5ms/step - loss: 0.5174 - accuracy: 0.8093 - val_loss: 0.2317 - val_accuracy: 0.9606\n",
            "Epoch 127/1000\n",
            "23/30 [======================>.......] - ETA: 0s - loss: 0.5302 - accuracy: 0.7999\n",
            "Epoch 127: saving model to model/keypoint_classifier\\keypoint_classifier.hdf5\n",
            "30/30 [==============================] - 0s 5ms/step - loss: 0.5282 - accuracy: 0.8008 - val_loss: 0.2312 - val_accuracy: 0.9622\n",
            "Epoch 128/1000\n",
            "29/30 [============================>.] - ETA: 0s - loss: 0.5321 - accuracy: 0.8036\n",
            "Epoch 128: saving model to model/keypoint_classifier\\keypoint_classifier.hdf5\n",
            "30/30 [==============================] - 0s 4ms/step - loss: 0.5338 - accuracy: 0.8032 - val_loss: 0.2281 - val_accuracy: 0.9654\n",
            "Epoch 129/1000\n",
            "29/30 [============================>.] - ETA: 0s - loss: 0.5179 - accuracy: 0.8066\n",
            "Epoch 129: saving model to model/keypoint_classifier\\keypoint_classifier.hdf5\n",
            "30/30 [==============================] - 0s 4ms/step - loss: 0.5168 - accuracy: 0.8072 - val_loss: 0.2348 - val_accuracy: 0.9598\n",
            "Epoch 130/1000\n",
            "29/30 [============================>.] - ETA: 0s - loss: 0.5241 - accuracy: 0.8058\n",
            "Epoch 130: saving model to model/keypoint_classifier\\keypoint_classifier.hdf5\n",
            "30/30 [==============================] - 0s 4ms/step - loss: 0.5257 - accuracy: 0.8053 - val_loss: 0.2310 - val_accuracy: 0.9630\n",
            "Epoch 131/1000\n",
            "28/30 [===========================>..] - ETA: 0s - loss: 0.5467 - accuracy: 0.7974\n",
            "Epoch 131: saving model to model/keypoint_classifier\\keypoint_classifier.hdf5\n",
            "30/30 [==============================] - 0s 4ms/step - loss: 0.5480 - accuracy: 0.7989 - val_loss: 0.2418 - val_accuracy: 0.9566\n",
            "Epoch 132/1000\n",
            "28/30 [===========================>..] - ETA: 0s - loss: 0.5380 - accuracy: 0.7972\n",
            "Epoch 132: saving model to model/keypoint_classifier\\keypoint_classifier.hdf5\n",
            "30/30 [==============================] - 0s 4ms/step - loss: 0.5396 - accuracy: 0.7973 - val_loss: 0.2338 - val_accuracy: 0.9606\n",
            "Epoch 133/1000\n",
            "29/30 [============================>.] - ETA: 0s - loss: 0.4979 - accuracy: 0.8195\n",
            "Epoch 133: saving model to model/keypoint_classifier\\keypoint_classifier.hdf5\n",
            "30/30 [==============================] - 0s 4ms/step - loss: 0.4974 - accuracy: 0.8195 - val_loss: 0.2309 - val_accuracy: 0.9614\n",
            "Epoch 134/1000\n",
            "28/30 [===========================>..] - ETA: 0s - loss: 0.5350 - accuracy: 0.7935\n",
            "Epoch 134: saving model to model/keypoint_classifier\\keypoint_classifier.hdf5\n",
            "30/30 [==============================] - 0s 4ms/step - loss: 0.5354 - accuracy: 0.7927 - val_loss: 0.2304 - val_accuracy: 0.9638\n",
            "Epoch 135/1000\n",
            "25/30 [========================>.....] - ETA: 0s - loss: 0.5109 - accuracy: 0.8116\n",
            "Epoch 135: saving model to model/keypoint_classifier\\keypoint_classifier.hdf5\n",
            "30/30 [==============================] - 0s 4ms/step - loss: 0.5114 - accuracy: 0.8080 - val_loss: 0.2366 - val_accuracy: 0.9606\n",
            "Epoch 136/1000\n",
            "30/30 [==============================] - ETA: 0s - loss: 0.5055 - accuracy: 0.8171\n",
            "Epoch 136: saving model to model/keypoint_classifier\\keypoint_classifier.hdf5\n",
            "30/30 [==============================] - 0s 4ms/step - loss: 0.5055 - accuracy: 0.8171 - val_loss: 0.2349 - val_accuracy: 0.9590\n",
            "Epoch 137/1000\n",
            "30/30 [==============================] - ETA: 0s - loss: 0.5115 - accuracy: 0.8163\n",
            "Epoch 137: saving model to model/keypoint_classifier\\keypoint_classifier.hdf5\n",
            "30/30 [==============================] - 0s 4ms/step - loss: 0.5115 - accuracy: 0.8163 - val_loss: 0.2288 - val_accuracy: 0.9582\n",
            "Epoch 138/1000\n",
            "30/30 [==============================] - ETA: 0s - loss: 0.5105 - accuracy: 0.8083\n",
            "Epoch 138: saving model to model/keypoint_classifier\\keypoint_classifier.hdf5\n",
            "30/30 [==============================] - 0s 4ms/step - loss: 0.5105 - accuracy: 0.8083 - val_loss: 0.2296 - val_accuracy: 0.9574\n",
            "Epoch 139/1000\n",
            "25/30 [========================>.....] - ETA: 0s - loss: 0.5386 - accuracy: 0.7950\n",
            "Epoch 139: saving model to model/keypoint_classifier\\keypoint_classifier.hdf5\n",
            "30/30 [==============================] - 0s 4ms/step - loss: 0.5407 - accuracy: 0.7975 - val_loss: 0.2292 - val_accuracy: 0.9614\n",
            "Epoch 140/1000\n",
            "23/30 [======================>.......] - ETA: 0s - loss: 0.5333 - accuracy: 0.8030\n",
            "Epoch 140: saving model to model/keypoint_classifier\\keypoint_classifier.hdf5\n",
            "30/30 [==============================] - 0s 4ms/step - loss: 0.5381 - accuracy: 0.7983 - val_loss: 0.2303 - val_accuracy: 0.9614\n",
            "Epoch 141/1000\n",
            "25/30 [========================>.....] - ETA: 0s - loss: 0.4915 - accuracy: 0.8134\n",
            "Epoch 141: saving model to model/keypoint_classifier\\keypoint_classifier.hdf5\n",
            "30/30 [==============================] - 0s 4ms/step - loss: 0.5013 - accuracy: 0.8107 - val_loss: 0.2353 - val_accuracy: 0.9630\n",
            "Epoch 142/1000\n",
            "27/30 [==========================>...] - ETA: 0s - loss: 0.5201 - accuracy: 0.8151\n",
            "Epoch 142: saving model to model/keypoint_classifier\\keypoint_classifier.hdf5\n",
            "30/30 [==============================] - 0s 5ms/step - loss: 0.5206 - accuracy: 0.8158 - val_loss: 0.2270 - val_accuracy: 0.9646\n",
            "Epoch 143/1000\n",
            "16/30 [===============>..............] - ETA: 0s - loss: 0.5647 - accuracy: 0.7808\n",
            "Epoch 143: saving model to model/keypoint_classifier\\keypoint_classifier.hdf5\n",
            "30/30 [==============================] - 0s 5ms/step - loss: 0.5457 - accuracy: 0.7911 - val_loss: 0.2366 - val_accuracy: 0.9541\n",
            "Epoch 144/1000\n",
            "29/30 [============================>.] - ETA: 0s - loss: 0.5251 - accuracy: 0.8047\n",
            "Epoch 144: saving model to model/keypoint_classifier\\keypoint_classifier.hdf5\n",
            "30/30 [==============================] - 0s 4ms/step - loss: 0.5282 - accuracy: 0.8048 - val_loss: 0.2328 - val_accuracy: 0.9549\n",
            "Epoch 145/1000\n",
            "29/30 [============================>.] - ETA: 0s - loss: 0.5076 - accuracy: 0.8254\n",
            "Epoch 145: saving model to model/keypoint_classifier\\keypoint_classifier.hdf5\n",
            "30/30 [==============================] - 0s 4ms/step - loss: 0.5076 - accuracy: 0.8252 - val_loss: 0.2217 - val_accuracy: 0.9606\n",
            "Epoch 146/1000\n",
            "29/30 [============================>.] - ETA: 0s - loss: 0.5229 - accuracy: 0.7996\n",
            "Epoch 146: saving model to model/keypoint_classifier\\keypoint_classifier.hdf5\n",
            "30/30 [==============================] - 0s 4ms/step - loss: 0.5221 - accuracy: 0.7997 - val_loss: 0.2268 - val_accuracy: 0.9558\n",
            "Epoch 147/1000\n",
            "22/30 [=====================>........] - ETA: 0s - loss: 0.5213 - accuracy: 0.8118\n",
            "Epoch 147: saving model to model/keypoint_classifier\\keypoint_classifier.hdf5\n",
            "30/30 [==============================] - 0s 5ms/step - loss: 0.5169 - accuracy: 0.8104 - val_loss: 0.2168 - val_accuracy: 0.9630\n",
            "Epoch 148/1000\n",
            "28/30 [===========================>..] - ETA: 0s - loss: 0.5183 - accuracy: 0.8050\n",
            "Epoch 148: saving model to model/keypoint_classifier\\keypoint_classifier.hdf5\n",
            "30/30 [==============================] - 0s 4ms/step - loss: 0.5181 - accuracy: 0.8056 - val_loss: 0.2206 - val_accuracy: 0.9654\n",
            "Epoch 149/1000\n",
            "30/30 [==============================] - ETA: 0s - loss: 0.5110 - accuracy: 0.8115\n",
            "Epoch 149: saving model to model/keypoint_classifier\\keypoint_classifier.hdf5\n",
            "30/30 [==============================] - 0s 4ms/step - loss: 0.5110 - accuracy: 0.8115 - val_loss: 0.2223 - val_accuracy: 0.9614\n",
            "Epoch 150/1000\n",
            "28/30 [===========================>..] - ETA: 0s - loss: 0.5271 - accuracy: 0.8041\n",
            "Epoch 150: saving model to model/keypoint_classifier\\keypoint_classifier.hdf5\n",
            "30/30 [==============================] - 0s 4ms/step - loss: 0.5237 - accuracy: 0.8050 - val_loss: 0.2235 - val_accuracy: 0.9582\n",
            "Epoch 151/1000\n",
            "28/30 [===========================>..] - ETA: 0s - loss: 0.5119 - accuracy: 0.8047\n",
            "Epoch 151: saving model to model/keypoint_classifier\\keypoint_classifier.hdf5\n",
            "30/30 [==============================] - 0s 4ms/step - loss: 0.5081 - accuracy: 0.8067 - val_loss: 0.2315 - val_accuracy: 0.9574\n",
            "Epoch 152/1000\n",
            "28/30 [===========================>..] - ETA: 0s - loss: 0.5171 - accuracy: 0.8105\n",
            "Epoch 152: saving model to model/keypoint_classifier\\keypoint_classifier.hdf5\n",
            "30/30 [==============================] - 0s 4ms/step - loss: 0.5156 - accuracy: 0.8107 - val_loss: 0.2277 - val_accuracy: 0.9606\n",
            "Epoch 153/1000\n",
            "24/30 [=======================>......] - ETA: 0s - loss: 0.5078 - accuracy: 0.8053\n",
            "Epoch 153: saving model to model/keypoint_classifier\\keypoint_classifier.hdf5\n",
            "30/30 [==============================] - 0s 4ms/step - loss: 0.5125 - accuracy: 0.8053 - val_loss: 0.2240 - val_accuracy: 0.9606\n",
            "Epoch 154/1000\n",
            "29/30 [============================>.] - ETA: 0s - loss: 0.5126 - accuracy: 0.8136\n",
            "Epoch 154: saving model to model/keypoint_classifier\\keypoint_classifier.hdf5\n",
            "30/30 [==============================] - 0s 4ms/step - loss: 0.5131 - accuracy: 0.8126 - val_loss: 0.2249 - val_accuracy: 0.9549\n",
            "Epoch 155/1000\n",
            "27/30 [==========================>...] - ETA: 0s - loss: 0.5135 - accuracy: 0.8061\n",
            "Epoch 155: saving model to model/keypoint_classifier\\keypoint_classifier.hdf5\n",
            "30/30 [==============================] - 0s 4ms/step - loss: 0.5102 - accuracy: 0.8091 - val_loss: 0.2233 - val_accuracy: 0.9614\n",
            "Epoch 156/1000\n",
            "27/30 [==========================>...] - ETA: 0s - loss: 0.5038 - accuracy: 0.8131\n",
            "Epoch 156: saving model to model/keypoint_classifier\\keypoint_classifier.hdf5\n",
            "30/30 [==============================] - 0s 5ms/step - loss: 0.5037 - accuracy: 0.8115 - val_loss: 0.2262 - val_accuracy: 0.9590\n",
            "Epoch 157/1000\n",
            "24/30 [=======================>......] - ETA: 0s - loss: 0.5153 - accuracy: 0.8076\n",
            "Epoch 157: saving model to model/keypoint_classifier\\keypoint_classifier.hdf5\n",
            "30/30 [==============================] - 0s 5ms/step - loss: 0.5094 - accuracy: 0.8104 - val_loss: 0.2250 - val_accuracy: 0.9590\n",
            "Epoch 158/1000\n",
            "27/30 [==========================>...] - ETA: 0s - loss: 0.5282 - accuracy: 0.8076\n",
            "Epoch 158: saving model to model/keypoint_classifier\\keypoint_classifier.hdf5\n",
            "30/30 [==============================] - 0s 4ms/step - loss: 0.5322 - accuracy: 0.8048 - val_loss: 0.2255 - val_accuracy: 0.9590\n",
            "Epoch 159/1000\n",
            "28/30 [===========================>..] - ETA: 0s - loss: 0.5098 - accuracy: 0.8161\n",
            "Epoch 159: saving model to model/keypoint_classifier\\keypoint_classifier.hdf5\n",
            "30/30 [==============================] - 0s 4ms/step - loss: 0.5100 - accuracy: 0.8144 - val_loss: 0.2337 - val_accuracy: 0.9549\n",
            "Epoch 160/1000\n",
            "30/30 [==============================] - ETA: 0s - loss: 0.5168 - accuracy: 0.8085\n",
            "Epoch 160: saving model to model/keypoint_classifier\\keypoint_classifier.hdf5\n",
            "30/30 [==============================] - 0s 4ms/step - loss: 0.5168 - accuracy: 0.8085 - val_loss: 0.2267 - val_accuracy: 0.9606\n",
            "Epoch 161/1000\n",
            "28/30 [===========================>..] - ETA: 0s - loss: 0.5032 - accuracy: 0.8086\n",
            "Epoch 161: saving model to model/keypoint_classifier\\keypoint_classifier.hdf5\n",
            "30/30 [==============================] - 0s 4ms/step - loss: 0.5036 - accuracy: 0.8083 - val_loss: 0.2252 - val_accuracy: 0.9574\n",
            "Epoch 162/1000\n",
            "28/30 [===========================>..] - ETA: 0s - loss: 0.4940 - accuracy: 0.8192\n",
            "Epoch 162: saving model to model/keypoint_classifier\\keypoint_classifier.hdf5\n",
            "30/30 [==============================] - 0s 4ms/step - loss: 0.5058 - accuracy: 0.8168 - val_loss: 0.2189 - val_accuracy: 0.9622\n",
            "Epoch 163/1000\n",
            "29/30 [============================>.] - ETA: 0s - loss: 0.5072 - accuracy: 0.8060\n",
            "Epoch 163: saving model to model/keypoint_classifier\\keypoint_classifier.hdf5\n",
            "30/30 [==============================] - 0s 4ms/step - loss: 0.5059 - accuracy: 0.8067 - val_loss: 0.2221 - val_accuracy: 0.9590\n",
            "Epoch 164/1000\n",
            "29/30 [============================>.] - ETA: 0s - loss: 0.5267 - accuracy: 0.8006\n",
            "Epoch 164: saving model to model/keypoint_classifier\\keypoint_classifier.hdf5\n",
            "30/30 [==============================] - 0s 4ms/step - loss: 0.5255 - accuracy: 0.8016 - val_loss: 0.2265 - val_accuracy: 0.9614\n",
            "Epoch 165/1000\n",
            "30/30 [==============================] - ETA: 0s - loss: 0.5224 - accuracy: 0.8037\n",
            "Epoch 165: saving model to model/keypoint_classifier\\keypoint_classifier.hdf5\n",
            "30/30 [==============================] - 0s 4ms/step - loss: 0.5224 - accuracy: 0.8037 - val_loss: 0.2282 - val_accuracy: 0.9558\n",
            "Epoch 166/1000\n",
            "26/30 [=========================>....] - ETA: 0s - loss: 0.4976 - accuracy: 0.8197\n",
            "Epoch 166: saving model to model/keypoint_classifier\\keypoint_classifier.hdf5\n",
            "30/30 [==============================] - 0s 4ms/step - loss: 0.5013 - accuracy: 0.8182 - val_loss: 0.2212 - val_accuracy: 0.9574\n",
            "Epoch 167/1000\n",
            "28/30 [===========================>..] - ETA: 0s - loss: 0.5067 - accuracy: 0.8114\n",
            "Epoch 167: saving model to model/keypoint_classifier\\keypoint_classifier.hdf5\n",
            "30/30 [==============================] - 0s 4ms/step - loss: 0.5087 - accuracy: 0.8093 - val_loss: 0.2316 - val_accuracy: 0.9493\n",
            "Epoch 167: early stopping\n"
          ]
        },
        {
          "data": {
            "text/plain": [
              "<keras.callbacks.History at 0x22295c1fcd0>"
            ]
          },
          "execution_count": 76,
          "metadata": {},
          "output_type": "execute_result"
        }
      ],
      "source": [
        "model.fit(\n",
        "    X_train,\n",
        "    y_train,\n",
        "    epochs=1000,\n",
        "    batch_size=128,\n",
        "    validation_data=(X_test, y_test),\n",
        "    callbacks=[cp_callback, es_callback]\n",
        ")"
      ]
    },
    {
      "cell_type": "code",
      "execution_count": 77,
      "metadata": {
        "colab": {
          "base_uri": "https://localhost:8080/"
        },
        "id": "pxvb2Y299hE3",
        "outputId": "59eb3185-2e37-4b9e-bc9d-ab1b8ac29b7f"
      },
      "outputs": [
        {
          "name": "stdout",
          "output_type": "stream",
          "text": [
            "10/10 [==============================] - 0s 1ms/step - loss: 0.2316 - accuracy: 0.9493\n"
          ]
        }
      ],
      "source": [
        "# Model evaluation\n",
        "val_loss, val_acc = model.evaluate(X_test, y_test, batch_size=128)"
      ]
    },
    {
      "cell_type": "code",
      "execution_count": 78,
      "metadata": {
        "id": "RBkmDeUW9hE4"
      },
      "outputs": [],
      "source": [
        "# Loading the saved model\n",
        "model = tf.keras.models.load_model(model_save_path)"
      ]
    },
    {
      "cell_type": "code",
      "execution_count": 79,
      "metadata": {
        "colab": {
          "base_uri": "https://localhost:8080/"
        },
        "id": "tFz9Tb0I9hE4",
        "outputId": "1c3b3528-54ae-4ee2-ab04-77429211cbef"
      },
      "outputs": [
        {
          "name": "stdout",
          "output_type": "stream",
          "text": [
            "1/1 [==============================] - 0s 44ms/step\n",
            "[2.4436103e-02 9.4502723e-01 3.0529853e-02 1.5034555e-08 6.7892606e-06]\n",
            "1\n"
          ]
        }
      ],
      "source": [
        "# Inference test\n",
        "predict_result = model.predict(np.array([X_test[0]]))\n",
        "print(np.squeeze(predict_result))\n",
        "print(np.argmax(np.squeeze(predict_result)))"
      ]
    },
    {
      "cell_type": "code",
      "execution_count": 80,
      "metadata": {
        "id": "S3U4yNWx9hE4"
      },
      "outputs": [],
      "source": [
        "# Confusion matrix"
      ]
    },
    {
      "cell_type": "code",
      "execution_count": 81,
      "metadata": {
        "colab": {
          "base_uri": "https://localhost:8080/",
          "height": 582
        },
        "id": "AP1V6SCk9hE5",
        "outputId": "08e41a80-7a4a-4619-8125-ecc371368d19"
      },
      "outputs": [
        {
          "name": "stdout",
          "output_type": "stream",
          "text": [
            "39/39 [==============================] - 0s 1ms/step\n"
          ]
        },
        {
          "data": {
            "image/png": "[encoded data removed]",
            "text/plain": [
              "<Figure size 700x600 with 2 Axes>"
            ]
          },
          "metadata": {},
          "output_type": "display_data"
        },
        {
          "name": "stdout",
          "output_type": "stream",
          "text": [
            "Classification Report\n",
            "              precision    recall  f1-score   support\n",
            "\n",
            "           0       0.97      0.98      0.98       395\n",
            "           1       0.98      0.90      0.94       391\n",
            "           2       0.90      0.98      0.94       328\n",
            "           3       0.94      0.94      0.94        88\n",
            "           4       0.88      0.90      0.89        41\n",
            "\n",
            "    accuracy                           0.95      1243\n",
            "   macro avg       0.94      0.94      0.94      1243\n",
            "weighted avg       0.95      0.95      0.95      1243\n",
            "\n"
          ]
        }
      ],
      "source": [
        "import pandas as pd\n",
        "import seaborn as sns\n",
        "import matplotlib.pyplot as plt\n",
        "from sklearn.metrics import confusion_matrix, classification_report\n",
        "\n",
        "def print_confusion_matrix(y_true, y_pred, report=True):\n",
        "    labels = sorted(list(set(y_true)))\n",
        "    cmx_data = confusion_matrix(y_true, y_pred, labels=labels)\n",
        "    \n",
        "    df_cmx = pd.DataFrame(cmx_data, index=labels, columns=labels)\n",
        " \n",
        "    fig, ax = plt.subplots(figsize=(7, 6))\n",
        "    sns.heatmap(df_cmx, annot=True, fmt='g' ,square=False)\n",
        "    ax.set_ylim(len(set(y_true)), 0)\n",
        "    plt.show()\n",
        "    \n",
        "    if report:\n",
        "        print('Classification Report')\n",
        "        print(classification_report(y_test, y_pred))\n",
        "\n",
        "Y_pred = model.predict(X_test)\n",
        "y_pred = np.argmax(Y_pred, axis=1)\n",
        "\n",
        "print_confusion_matrix(y_test, y_pred)"
      ]
    },
    {
      "cell_type": "code",
      "execution_count": 82,
      "metadata": {
        "id": "FNP6aqzc9hE5"
      },
      "outputs": [],
      "source": [
        "# Convert to model for Tensorflow-Lite"
      ]
    },
    {
      "cell_type": "code",
      "execution_count": 83,
      "metadata": {
        "id": "ODjnYyld9hE6"
      },
      "outputs": [],
      "source": [
        "# Save as a model dedicated to inference\n",
        "model.save(model_save_path, include_optimizer=False)"
      ]
    },
    {
      "cell_type": "code",
      "execution_count": 84,
      "metadata": {
        "colab": {
          "base_uri": "https://localhost:8080/"
        },
        "id": "zRfuK8Y59hE6",
        "outputId": "a4ca585c-b5d5-4244-8291-8674063209bb"
      },
      "outputs": [
        {
          "name": "stdout",
          "output_type": "stream",
          "text": [
            "INFO:tensorflow:Assets written to: C:\\Users\\somya\\AppData\\Local\\Temp\\tmp2et5iaqi\\assets\n"
          ]
        },
        {
          "name": "stderr",
          "output_type": "stream",
          "text": [
            "INFO:tensorflow:Assets written to: C:\\Users\\somya\\AppData\\Local\\Temp\\tmp2et5iaqi\\assets\n"
          ]
        },
        {
          "data": {
            "text/plain": [
              "6560"
            ]
          },
          "execution_count": 84,
          "metadata": {},
          "output_type": "execute_result"
        }
      ],
      "source": [
        "# Transform model (quantization)\n",
        "\n",
        "converter = tf.lite.TFLiteConverter.from_keras_model(model)\n",
        "converter.optimizations = [tf.lite.Optimize.DEFAULT]\n",
        "tflite_quantized_model = converter.convert()\n",
        "\n",
        "open(tflite_save_path, 'wb').write(tflite_quantized_model)"
      ]
    },
    {
      "cell_type": "code",
      "execution_count": 85,
      "metadata": {
        "id": "CHBPBXdx9hE6"
      },
      "outputs": [],
      "source": [
        "# Inference test"
      ]
    },
    {
      "cell_type": "code",
      "execution_count": 86,
      "metadata": {
        "id": "mGAzLocO9hE7"
      },
      "outputs": [],
      "source": [
        "interpreter = tf.lite.Interpreter(model_path=tflite_save_path)\n",
        "interpreter.allocate_tensors()"
      ]
    },
    {
      "cell_type": "code",
      "execution_count": 87,
      "metadata": {
        "id": "oQuDK8YS9hE7"
      },
      "outputs": [],
      "source": [
        "# Get I / O tensor\n",
        "input_details = interpreter.get_input_details()\n",
        "output_details = interpreter.get_output_details()"
      ]
    },
    {
      "cell_type": "code",
      "execution_count": 88,
      "metadata": {
        "id": "2_ixAf_l9hE7"
      },
      "outputs": [],
      "source": [
        "interpreter.set_tensor(input_details[0]['index'], np.array([X_test[0]]))"
      ]
    },
    {
      "cell_type": "code",
      "execution_count": 89,
      "metadata": {
        "colab": {
          "base_uri": "https://localhost:8080/"
        },
        "id": "s4FoAnuc9hE7",
        "outputId": "91f18257-8d8b-4ef3-c558-e9b5f94fabbf",
        "scrolled": true
      },
      "outputs": [
        {
          "name": "stdout",
          "output_type": "stream",
          "text": [
            "CPU times: total: 0 ns\n",
            "Wall time: 1 ms\n"
          ]
        }
      ],
      "source": [
        "%%time\n",
        "# Inference implementation\n",
        "interpreter.invoke()\n",
        "tflite_results = interpreter.get_tensor(output_details[0]['index'])"
      ]
    },
    {
      "cell_type": "code",
      "execution_count": 90,
      "metadata": {
        "colab": {
          "base_uri": "https://localhost:8080/"
        },
        "id": "vONjp19J9hE8",
        "outputId": "77205e24-fd00-42c4-f7b6-e06e527c2cba"
      },
      "outputs": [
        {
          "name": "stdout",
          "output_type": "stream",
          "text": [
            "[2.4436096e-02 9.4502723e-01 3.0529873e-02 1.5034553e-08 6.7892606e-06]\n",
            "1\n"
          ]
        }
      ],
      "source": [
        "print(np.squeeze(tflite_results))\n",
        "print(np.argmax(np.squeeze(tflite_results)))"
      ]
    }
  ],
  "metadata": {
    "accelerator": "GPU",
    "colab": {
      "collapsed_sections": [],
      "name": "keypoint_classification_EN.ipynb",
      "provenance": [],
      "toc_visible": true
    },
    "kernelspec": {
      "display_name": "Python 3",
      "language": "python",
      "name": "python3"
    },
    "language_info": {
      "codemirror_mode": {
        "name": "ipython",
        "version": 3
      },
      "file_extension": ".py",
      "mimetype": "text/x-python",
      "name": "python",
      "nbconvert_exporter": "python",
      "pygments_lexer": "ipython3",
      "version": "3.9.4"
    }
  },
  "nbformat": 4,
  "nbformat_minor": 0
}
